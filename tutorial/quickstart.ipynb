{
 "cells": [
  {
   "cell_type": "markdown",
   "metadata": {},
   "source": [
    "# HealSparse tutorial\n",
    "\n",
    "In this tutorial you will learn about the basic functionality of HealSparse. Please let us know of any issues/questions [here](https://github.com/LSSTDESC/healsparse/issues)."
   ]
  },
  {
   "cell_type": "markdown",
   "metadata": {},
   "source": [
    "`HealSparse` is a Python package that uses [`healpy`](https://github.com/healpy/healpy) to generate sparse [`HEALPix`](https://healpix.jpl.nasa.gov/).\n",
    "\n",
    "While `healpy` is very convenient and powerful for analyzing full-sky maps, when dealing with partial sky-coverage, it introduces a large memory overhead since the empty pixels are carried over, making it difficult to deal with high-resolution maps. `HealSparse` tries to take advantage of all the power and convenience of `healpy` while trying to reduce the memory footprint.\n",
    "\n",
    "`HealSparse` has the ability to create maps using `ndarray` and `recarray` objects. In a single-grid, it can contain several maps. This can be useful to map observing conditions, or to carry information about galaxy density, and shear. Or CMB temperatures and polarizations in the same grids.\n",
    "\n",
    "## Basics\n",
    "\n",
    "* How does `HealSparse` manage to reduce the memory footprint while retaining most of `healpy`'s functionalities? \n",
    "\n",
    "`HealSparse` uses a dual-map approach, i.e., we use a low-resolution, full-sky \"coverage index map\" that tells us about the patches of the sky that are observed/contain relevant information. The size of this map is controlled by the parameter: `nside_coverage`. Then, for each one of the covered pixels, we store the information about the high-resolution pixels contained in it. The resolution of these fine-grid pixels is controlled by the `nside_sparse` parameter. This means that, in principle, we store `n_covered * (nside_sparse/nside_coverage)**2` pixels, in this case in a 1D `numpy` array, where `n_covered` is the number of observed or covered pixels in the coverage map. However, for convenience reasons, we have an overflow bin (which goes from `[0:(nside_sparse/nside_coverage)**2]`)."
   ]
  },
  {
   "cell_type": "code",
   "execution_count": null,
   "metadata": {
    "collapsed": false,
    "jupyter": {
     "outputs_hidden": false
    }
   },
   "outputs": [],
   "source": [
    "import numpy as np\n",
    "import healsparse as hsp\n",
    "import healpy as hp\n",
    "import matplotlib.pyplot as plt\n",
    "import sys\n",
    "%matplotlib inline"
   ]
  },
  {
   "cell_type": "markdown",
   "metadata": {},
   "source": [
    "### Creation of a `HealSparseMap`"
   ]
  },
  {
   "cell_type": "markdown",
   "metadata": {},
   "source": [
    "Let's get started by creating a simple `HealSparse` map. There are several ways to do so:\n",
    "\n",
    "**1) Using a previously generated `healpy` map.**"
   ]
  },
  {
   "cell_type": "code",
   "execution_count": null,
   "metadata": {
    "collapsed": false,
    "jupyter": {
     "outputs_hidden": false
    }
   },
   "outputs": [],
   "source": [
    "# These values are going to control the resolution of the maps\n",
    "nside_coverage = 32 # This is going to control the resolution of the \"low-resolution map\" that tells us which pixels are covered\n",
    "nside_sparse = 128 # This is going to control the resolution of the \"high-resolution\" map that contains the information that we care about\n",
    "n_pop = 200\n",
    "ra_rnd = 360.0*np.random.random(size=n_pop)\n",
    "dec_rnd = -90.0 + 180.0*np.random.random(size=n_pop)\n",
    "value_rnd = np.random.random(size=n_pop)\n",
    "hp_aux = np.zeros(hp.nside2npix(nside_sparse)) + hp.UNSEEN # Empty pixels for `HealSparse` are marked by `hp.UNSEEN`\n",
    "hp_aux[hp.ang2pix(nside_sparse, np.radians(90 - dec_rnd), np.radians(ra_rnd), nest=True)] = value_rnd\n",
    "hp.mollview(hp_aux)"
   ]
  },
  {
   "cell_type": "code",
   "execution_count": null,
   "metadata": {
    "collapsed": false,
    "jupyter": {
     "outputs_hidden": false
    }
   },
   "outputs": [],
   "source": [
    "# Now let's create the `HealSparseMap`\n",
    "hsp_map = hsp.HealSparseMap(nside_coverage=nside_coverage, healpix_map=hp_aux)"
   ]
  },
  {
   "cell_type": "code",
   "execution_count": null,
   "metadata": {
    "collapsed": false,
    "jupyter": {
     "outputs_hidden": false
    }
   },
   "outputs": [],
   "source": [
    "# Now let's check the size savings\n",
    "print('Size of Original HEALPix map [KB] ', sys.getsizeof(hp_aux)/1024.)\n",
    "print('Size of HealSparse Map [KB]:' ,sys.getsizeof(hsp_map._sparse_map)/1024.)\n",
    "print('Memory footprint reduction factor:', int(1.0*sys.getsizeof(hp_aux)/sys.getsizeof(hsp_map._sparse_map)))\n",
    "# We reduce a factor of 62!! But this is mostly due because the map is very sparse"
   ]
  },
  {
   "cell_type": "markdown",
   "metadata": {},
   "source": [
    "**2) From scratch:**"
   ]
  },
  {
   "cell_type": "code",
   "execution_count": null,
   "metadata": {
    "collapsed": false,
    "jupyter": {
     "outputs_hidden": false
    }
   },
   "outputs": [],
   "source": [
    "# First create an empty map of the desired size and coverage\n",
    "hsp_map_2 = hsp.HealSparseMap.make_empty(nside_coverage, nside_sparse, dtype=np.float64)\n",
    "# Get the pixel index corresponding to the position in the sky that we care about (we use the same convention as healpy!!)\n",
    "pixels = hp.ang2pix(nside_sparse, np.radians(90 - dec_rnd), np.radians(ra_rnd), nest=True)\n",
    "# Populate the map (using the same values and positions as in the previous case)\n",
    "hsp_map_2.update_values_pix(pixels, value_rnd)\n",
    "# Check that both maps are the same\n",
    "print('Are both maps (the one generated from scratch and the one generated from the HEALPix map) the same?', np.allclose(hsp_map._sparse_map,hsp_map_2._sparse_map))"
   ]
  },
  {
   "cell_type": "markdown",
   "metadata": {},
   "source": [
    "The values in the map are contained in their `_sparse_map` attributes"
   ]
  },
  {
   "cell_type": "markdown",
   "metadata": {},
   "source": [
    "The main advantage of `healsparse` is the ability to generate very high-resolution maps which would not be possible to create with `healpy` otherwise. For example:"
   ]
  },
  {
   "cell_type": "code",
   "execution_count": null,
   "metadata": {
    "collapsed": false,
    "jupyter": {
     "outputs_hidden": false
    }
   },
   "outputs": [],
   "source": [
    "nside_coverage = 1024\n",
    "nside_sparse = 32768 # A HEALPix map of this resolution would need ~96 GB of memory\n",
    "# Generate the empty map\n",
    "hsp_map_high_res = hsp.HealSparseMap.make_empty(nside_coverage, nside_sparse, dtype=np.float64)\n",
    "# Fill it up at the same positions as before\n",
    "pixels = hp.ang2pix(nside_sparse, np.radians(90 - dec_rnd), np.radians(ra_rnd), nest=True)\n",
    "hsp_map_high_res.update_values_pix(pixels, value_rnd)\n",
    "print('Size of HealSparse Map [KB]:' ,sys.getsizeof(hsp_map_high_res._sparse_map)/1024., ' with resolution: ', 60*hp.nside2resol(nside_sparse, arcmin=True), ' arcsec')"
   ]
  },
  {
   "cell_type": "markdown",
   "metadata": {},
   "source": [
    "### Input/Output\n",
    "\n",
    "`HealSparse` can read and write both `HealSparse` maps and `HEALPix/healpy` maps"
   ]
  },
  {
   "cell_type": "code",
   "execution_count": null,
   "metadata": {
    "collapsed": false,
    "jupyter": {
     "outputs_hidden": false
    }
   },
   "outputs": [],
   "source": [
    "nside_coverage = 32 \n",
    "nside_sparse = 128\n",
    "# Write both the HEALPix and HealSparse maps\n",
    "hp.write_map('test_hp_map.fits', hp_aux, overwrite=True)\n",
    "hsp_map.write('test_hsp_map.fits', clobber=True)\n",
    "# Read both the HEALPix and HealSparse maps using HealSparse\n",
    "hsp_map_3 = hsp.HealSparseMap.read('test_hp_map.fits', nside_coverage=nside_coverage)\n",
    "hsp_map_4 = hsp.HealSparseMap.read('test_hsp_map.fits')"
   ]
  },
  {
   "cell_type": "markdown",
   "metadata": {},
   "source": [
    "### Coverage mask and map"
   ]
  },
  {
   "cell_type": "markdown",
   "metadata": {},
   "source": [
    "A useful property of `HealSparse` objects are their **\"coverage masks\"**. These masks are boolean maps that show the low-resolution pixels that contain non-empty high-resolution pixels with value `1`, and the empty pixels with value `0`. In order to access these masks we have to use the property/method `coverage_mask` from a `HealSparse` object. Let's see an example:"
   ]
  },
  {
   "cell_type": "code",
   "execution_count": null,
   "metadata": {
    "collapsed": false,
    "jupyter": {
     "outputs_hidden": false
    }
   },
   "outputs": [],
   "source": [
    "hsp_mask = hsp_map.coverage_mask\n",
    "hp.mollview(hsp_mask, title='Coverage Mask')"
   ]
  },
  {
   "cell_type": "markdown",
   "metadata": {},
   "source": [
    "Another useful property of `HealSparse` objects are their **\"coverage maps\"**. These maps show what fraction of a pixel in the low-resolution map has been observed in the high-resolution map. E.g., if a low-resolution pixel contains high-resolution pixels that have been all observed, the value of the coverage map in that pixel will be 1.0. In order to access these maps, one just has to invoke the method `HealSparse.coverage_map`"
   ]
  },
  {
   "cell_type": "code",
   "execution_count": null,
   "metadata": {
    "collapsed": false,
    "jupyter": {
     "outputs_hidden": false
    }
   },
   "outputs": [],
   "source": [
    "hsp_cov_map = hsp_map.coverage_map\n",
    "hp.mollview(hsp_cov_map, title='Coverage Map')"
   ]
  },
  {
   "cell_type": "markdown",
   "metadata": {},
   "source": [
    "### Pixel utilities\n",
    "\n",
    "`HealSparse` also has utilities to get the value of a pixel in a given position of the sky, or update a map in a given position. Let's see how this is done:"
   ]
  },
  {
   "cell_type": "code",
   "execution_count": null,
   "metadata": {
    "collapsed": false,
    "jupyter": {
     "outputs_hidden": false
    }
   },
   "outputs": [],
   "source": [
    "# Points to probe\n",
    "test_ra = 360*np.random.random(size=10)\n",
    "test_dec = -90 + 180*np.random.random(size=10)\n",
    "# Values to recover\n",
    "test_values = hsp_map.get_values_pos(test_ra, test_dec, lonlat=True)\n",
    "# There's also the possiblity of getting them from the theta/phi coordinates:\n",
    "test_values_2 = hsp_map.get_values_pos(np.radians(90 - test_dec), np.radians(test_ra), lonlat=False)\n",
    "print('Are all the pixel values the same using both methods?', np.allclose(test_values, test_values_2))"
   ]
  },
  {
   "cell_type": "markdown",
   "metadata": {},
   "source": [
    "An alternative method to get the value in a given pixel is to get the `HEALPix` pixel number that corresponds to a given position (RA, Dec) with the same resolution that our sparse map, and query these:"
   ]
  },
  {
   "cell_type": "code",
   "execution_count": null,
   "metadata": {
    "collapsed": false,
    "jupyter": {
     "outputs_hidden": false
    }
   },
   "outputs": [],
   "source": [
    "test_px_num = hp.ang2pix(hsp_map._nside_sparse, np.radians(90 - test_dec), np.radians(test_ra), nest=True)\n",
    "test_values_2 = hsp_map.get_values_pix(test_px_num)\n",
    "print('Are all the pixel values the same using both methods?', np.allclose(test_values, test_values_2))"
   ]
  },
  {
   "cell_type": "markdown",
   "metadata": {},
   "source": [
    "Now, if you want to change the value of a `HealSparseMap` the preferred option is to use the `update` method given the pixel number"
   ]
  },
  {
   "cell_type": "code",
   "execution_count": null,
   "metadata": {},
   "outputs": [],
   "source": [
    "test_values = np.random.random(size=10)\n",
    "# Now let's update the map in the positions that we were previously probing.\n",
    "hsp_map.update_values_pix(test_px_num, test_values)"
   ]
  },
  {
   "cell_type": "markdown",
   "metadata": {},
   "source": [
    "### Checking the position of valid pixels"
   ]
  },
  {
   "cell_type": "markdown",
   "metadata": {},
   "source": [
    "`HealSparse`'s high-resolution maps follow the same indexing as their `HEALPix` counterparts using the `NEST` pixel scheme. `HealSparse` maps have methods to quickly access the indices of pixels of the high-resolution maps that have been observed (i.e., that have a value different than the sentinel)."
   ]
  },
  {
   "cell_type": "code",
   "execution_count": null,
   "metadata": {},
   "outputs": [],
   "source": [
    "valid_pixels_indices = hsp_map.valid_pixels\n",
    "print(valid_pixels_indices) # These are the indices of the HEALPixels with nside=1024 that have been observed"
   ]
  },
  {
   "cell_type": "markdown",
   "metadata": {},
   "source": [
    "We can also quickly get their positions by using the `valid_pixels_pos` method. This method internally calls `healpy.pix2ang` and accepts the `lonlat` option which allows you to either retrieve the positions as colatitude and longitude in radians or RA and Dec in degrees."
   ]
  },
  {
   "cell_type": "code",
   "execution_count": null,
   "metadata": {},
   "outputs": [],
   "source": [
    "ra_valid, dec_valid = hsp_map.valid_pixels_pos(lonlat=True)\n",
    "# Let's retrieve the values of the pixels at these locations. There's an alternative way to do this\n",
    "hsp_map_values = hsp_map.get_values_pos(ra_valid, dec_valid, lonlat=True)\n",
    "\n",
    "# Another option to retrieve the values of the map can be instead the line below:\n",
    "#hsp_map_values = hsp_map.get_values_pix(hsp_map.valid_pixels)\n",
    "\n",
    "size = 1./60*hp.nside2resol(nside_sparse, arcmin=True) # Get the resolution of the pixel\n",
    "print('Pixel resolution: %.2f deg' % (size))\n",
    "# Let's take a look, approximating each pixel as Circles with radius = resolution/2\n",
    "# We will draw circles 10 times larger than they should so we can see them in this map\n",
    "from matplotlib.patches import Circle\n",
    "from matplotlib.collections import PatchCollection\n",
    "# This visualization is not accurate but it helps\n",
    "patches = [Circle((x_, y_), s_) for x_, y_, s_ in np.broadcast(ra_valid, dec_valid, 10*size/2)]\n",
    "collection = PatchCollection(patches)\n",
    "collection.set_array(np.asarray(hsp_map_values))\n",
    "f, ax = plt.subplots(1,1)\n",
    "ax.add_collection(collection)\n",
    "ax.autoscale_view()\n",
    "plt.sci(collection)\n",
    "plt.colorbar(label='Pixel values')\n",
    "plt.xlabel('RA [deg]')\n",
    "plt.ylabel('Dec [deg]');"
   ]
  },
  {
   "cell_type": "markdown",
   "metadata": {},
   "source": [
    "### Using `np.recarray`"
   ]
  },
  {
   "cell_type": "markdown",
   "metadata": {},
   "source": [
    "A very powerful feature of `HealSparse` is the ability to deal with `np.recarray`. This allows us to carry several maps on the same \"grid\" and using the same coverage mask/map. Let's see an example of how to create such maps."
   ]
  },
  {
   "cell_type": "code",
   "execution_count": null,
   "metadata": {
    "collapsed": false,
    "jupyter": {
     "outputs_hidden": false
    }
   },
   "outputs": [],
   "source": [
    "# We are going to create 3 maps: one with galaxy overdensity, another with number of stars (integer), and one with sky-brightness\n",
    "dtype = [('gal_delta','f8'),('star_num','i4'),('sky_brightness','f4')]\n",
    "npop = 10000 # We are going to populate 10000 pixels\n",
    "ra_rnd = 360*np.random.random(size=npop)\n",
    "dec_rnd = -90 + 180.0*np.random.random(size=npop)\n",
    "nside_sparse = 512 # This is the resolution for our sparse map\n",
    "nside_coverage = 32 # This is the resolution of our coverage map\n",
    "# We are going to fill up the pixels corresponding to the positions above \n",
    "px_rnd = hp.ang2pix(nside_sparse, np.radians(90 - dec_rnd), np.radians(ra_rnd), nest=True)\n",
    "# We find the pixels that aren't repeated\n",
    "px_rnd = np.unique(px_rnd)\n",
    "npop = len(px_rnd)\n",
    "# Create an empty array\n",
    "test_arr = np.zeros(npop, dtype=dtype)\n",
    "# Fill up the arrays with random values\n",
    "test_arr['gal_delta'] = -1 + 10*np.random.random(npop)\n",
    "test_arr['star_num'] = np.random.randint(low=0, high=10, size=npop)\n",
    "test_arr['sky_brightness'] = 3000 + 10000*np.random.random(size=npop)\n",
    "hsp_recarray = hsp.HealSparseMap.make_empty(nside_coverage, nside_sparse, dtype=dtype, primary='gal_delta') # A primary key should be chosen! This marks our \"primary\" map\n",
    "hsp_recarray.update_values_pix(px_rnd, test_arr)"
   ]
  },
  {
   "cell_type": "markdown",
   "metadata": {},
   "source": [
    "`hsp_recarray` now contains information about 3 maps in its `_sparseMap` and the primary key is `gal_delta` (the galaxy overdensity map)"
   ]
  },
  {
   "cell_type": "code",
   "execution_count": null,
   "metadata": {
    "collapsed": false,
    "jupyter": {
     "outputs_hidden": false
    }
   },
   "outputs": [],
   "source": [
    "print(hsp_recarray._sparse_map.dtype.fields)"
   ]
  },
  {
   "cell_type": "markdown",
   "metadata": {},
   "source": [
    "### Changing the resolution of a `HealSparseMap`"
   ]
  },
  {
   "cell_type": "markdown",
   "metadata": {},
   "source": [
    "We can decrease the resolution of a given `HealSparseMap` using the `degrade` method. This method allows us to keep the same coverage index map and change the size of the sparse map(s). This method is pretty flexible and, it gives the user the possibility of choosing several methods to change the resolution of the original maps, including, mean, median, standard deviation, maximum or minimum. So, the value of the new (larger) pixel will correspond to the chosen operation performed on the smaller (sub-)pixels. "
   ]
  },
  {
   "cell_type": "code",
   "execution_count": null,
   "metadata": {
    "collapsed": false,
    "jupyter": {
     "outputs_hidden": false
    }
   },
   "outputs": [],
   "source": [
    "# The method works for `HealSparseMap` containing both `recarray`s and `ndarray`s\n",
    "low_res_hsp = hsp_recarray.degrade(64) # It changes the resolution of all maps\n",
    "print('What is my new nside_sparse?', low_res_hsp._nside_sparse)\n",
    "# Warnings arise due to operations in the overflow bin but they can be safely ignored"
   ]
  },
  {
   "cell_type": "code",
   "execution_count": null,
   "metadata": {
    "collapsed": false,
    "jupyter": {
     "outputs_hidden": false
    }
   },
   "outputs": [],
   "source": [
    "low_res_hsp = hsp_recarray.degrade(64, reduction='max') # We can also check the maximum, for example\n",
    "print('What is my new nside_sparse?', low_res_hsp._nside_sparse)"
   ]
  },
  {
   "cell_type": "markdown",
   "metadata": {},
   "source": [
    "### Getting a HEALPix map from a HealSparse map"
   ]
  },
  {
   "cell_type": "markdown",
   "metadata": {},
   "source": [
    "Another useful utility of `HealSparse` is the ability to build a `HEALPix` map from a given `HealSparse` map. This utility also allows the user to change the resolution of the map before converting to `HEALPix` (this can prevent running into memory problems). In the case of using `recarray` maps, the user can choose which map they want to convert. The datatypes are preserved, except in the case of dealing with integers, in that case, the maps are converted to floating point."
   ]
  },
  {
   "cell_type": "code",
   "execution_count": null,
   "metadata": {
    "collapsed": false,
    "jupyter": {
     "outputs_hidden": false
    }
   },
   "outputs": [],
   "source": [
    "rec_hp = hsp_recarray.generate_healpix_map(nside=128, key='sky_brightness')\n",
    "hp.mollview(rec_hp)"
   ]
  },
  {
   "cell_type": "markdown",
   "metadata": {},
   "source": [
    "### Using a HealSparse Wide Mask\n",
    "\n",
    "HealSparse also has support for \"wide\" bit masks with an arbitrary number of bits that are referred to by bit position rather than value.  This is useful, for example, when constructing a coadd coverage map where every pixel can uniquely identify the set of input exposures that contributed at that pixel.  In the case of > 64 input exposures you can no longer use a simple bit mask, and the wide mask is very useful.  Wide mask bits are always specified by giving a list of integers."
   ]
  },
  {
   "cell_type": "code",
   "execution_count": null,
   "metadata": {},
   "outputs": [],
   "source": [
    "# Construct a wide mask with 128 bits\n",
    "nside_coverage = 64\n",
    "nside_map = 4096\n",
    "sparse_map = hsp.HealSparseMap.make_empty(nside_coverage, nside_map, hsp.WIDE_MASK, wide_mask_maxbits=128)"
   ]
  },
  {
   "cell_type": "code",
   "execution_count": null,
   "metadata": {},
   "outputs": [],
   "source": [
    "# Create a polygon with the bits 4 (2**4) and 100 (2**100) set\n",
    "ra = [200.0, 200.2, 200.3, 200.2, 200.1]\n",
    "dec = [0.0, 0.1, 0.2, 0.25, 0.13]\n",
    "poly = hsp.geom.Polygon(ra=ra, dec=dec, value=[4, 100])"
   ]
  },
  {
   "cell_type": "code",
   "execution_count": null,
   "metadata": {},
   "outputs": [],
   "source": [
    "# Realize the geometry into the map\n",
    "hsp.geom.realize_geom([poly], sparse_map)"
   ]
  },
  {
   "cell_type": "code",
   "execution_count": null,
   "metadata": {},
   "outputs": [],
   "source": [
    "# Plot the valid pixels\n",
    "valid_pixels, ra, dec = sparse_map.valid_pixels_pos(lonlat=True, return_pixels=True)\n",
    "plt.plot(ra, dec, 'r.')"
   ]
  },
  {
   "cell_type": "code",
   "execution_count": null,
   "metadata": {},
   "outputs": [],
   "source": [
    "# Check that the bits are set.\n",
    "print(sparse_map.check_bits_pix(valid_pixels, [4]))\n",
    "print(sparse_map.check_bits_pix(valid_pixels, [100]))\n",
    "print(sparse_map.check_bits_pix(valid_pixels, [90]))"
   ]
  },
  {
   "cell_type": "code",
   "execution_count": null,
   "metadata": {},
   "outputs": [],
   "source": [
    "# Clear a bit and set another\n",
    "sparse_map.clear_bits_pix(valid_pixels, [4])\n",
    "sparse_map.set_bits_pix(valid_pixels, [20])"
   ]
  },
  {
   "cell_type": "code",
   "execution_count": null,
   "metadata": {},
   "outputs": [],
   "source": [
    "print(sparse_map.check_bits_pix(valid_pixels, [4]))\n",
    "print(sparse_map.check_bits_pix(valid_pixels, [20]))"
   ]
  },
  {
   "cell_type": "markdown",
   "metadata": {},
   "source": [
    "You are now ready to use `healsparse`! Please let us know of any [issues](https://github.com/LSSTDESC/healsparse/issues)."
   ]
  },
  {
   "cell_type": "markdown",
   "metadata": {},
   "source": [
    "### Tricks for quick visualization\n",
    "\n",
    "Currently, `healsparse` does not have any built-in map visualization. As some of the examples in this tutorial show, one can easily convert to a full healpix map and use `healpy`'s visualization tools. An alternative way is to use some of `matplotlib.pyplot` tools to quickly generate plots. For example, a fast approximate way to visualize maps can be performed by calling `matplotlib.pyplot.hexbin`. We showcase an example below."
   ]
  },
  {
   "cell_type": "code",
   "execution_count": null,
   "metadata": {},
   "outputs": [],
   "source": [
    "vpix, ra, dec = hsp_map.valid_pixels_pos(return_pixels=True)\n",
    "plt.hexbin(ra, dec, C=hsp_map[vpix])\n",
    "plt.colorbar()\n",
    "plt.show()"
   ]
  },
  {
   "cell_type": "markdown",
   "metadata": {},
   "source": [
    "More advanced visualization tools are being developed within the [`cartosky` package](https://github.com/kadrlica/cartosky)."
   ]
  }
 ],
 "metadata": {
  "kernelspec": {
   "display_name": "Python 3",
   "language": "python",
   "name": "python3"
  },
  "language_info": {
   "codemirror_mode": {
    "name": "ipython",
    "version": 3
   },
   "file_extension": ".py",
   "mimetype": "text/x-python",
   "name": "python",
   "nbconvert_exporter": "python",
   "pygments_lexer": "ipython3",
   "version": "3.7.9"
  }
 },
 "nbformat": 4,
 "nbformat_minor": 4
}
