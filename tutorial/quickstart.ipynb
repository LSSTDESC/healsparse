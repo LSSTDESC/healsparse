{
 "cells": [
  {
   "cell_type": "markdown",
   "metadata": {},
   "source": [
    "# HealSparse tutorial\n",
    "\n",
    "In this tutorial you will learn about the basic functionality of HealSparse. Please let us know of any issues/questions [here](https://github.com/LSSTDESC/healsparse/issues)."
   ]
  },
  {
   "cell_type": "markdown",
   "metadata": {},
   "source": [
    "`HealSparse` is a Python package that uses [`healpy`](https://github.com/healpy/healpy) to generate sparse [`HEALPix`](https://healpix.jpl.nasa.gov/).\n",
    "\n",
    "While `healpy` is very convenient and powerful for analyzing full-sky maps, when dealing with partial sky-coverage, it introduces a large memory overhead since the empty pixels are carried over, making it difficult to deal with high-resolution maps. `HealSparse` tries to take advantage of all the power and convenience of `healpy` while trying to reduce the memory footprint.\n",
    "\n",
    "`HealSparse` has the ability to create maps using `ndarray` and `recarray` objects. In a single-grid, it can contain several maps. This can be useful to map observing conditions, or to carry information about galaxy density, and shear. Or CMB temperatures and polarizations in the same grids.\n",
    "\n",
    "## Basics\n",
    "\n",
    "* How does `HealSparse` manage to reduce the memory footprint while retaining most of `healpy`'s functionalities? \n",
    "\n",
    "`HealSparse` uses a dual-map approach, i.e., we use a low-resolution, full-sky \"coverage index map\" that tells us about the patches of the sky that are observed/contain relevant information. The size of this map is controlled by the parameter: `nside_coverage`. Then, for each one of the covered pixels, we store the information about the high-resolution pixels contained in it. The resolution of these fine-grid pixels is controlled by the `nside_sparse` parameter. This means that, in principle, we store `n_covered * (nside_sparse/nside_coverage)**2` pixels, in this case in a 1D `numpy` array, where `n_covered` is the number of observed or covered pixels in the coverage map. However, for convenience reasons, we have an overflow bin (which goes from `[0:(nside_sparse/nside_coverage)**2]`)."
   ]
  },
  {
   "cell_type": "code",
   "execution_count": 1,
   "metadata": {
    "collapsed": false
   },
   "outputs": [],
   "source": [
    "import numpy as np\n",
    "import healsparse as hsp\n",
    "import healpy as hp\n",
    "import matplotlib.pyplot as plt\n",
    "import sys\n",
    "%matplotlib inline"
   ]
  },
  {
   "cell_type": "markdown",
   "metadata": {},
   "source": [
    "### Creation of a `HealSparseMap`"
   ]
  },
  {
   "cell_type": "markdown",
   "metadata": {},
   "source": [
    "Let's get started by creating a simple `HealSparse` map. There are several ways to do so:\n",
    "\n",
    "**1) Using a previously generated `healpy` map.**"
   ]
  },
  {
   "cell_type": "code",
   "execution_count": 2,
   "metadata": {
    "collapsed": false
   },
   "outputs": [
    {
     "data": {
      "image/png": "[encoded data removed]",
      "text/plain": [
       "<matplotlib.figure.Figure at 0x11db3f240>"
      ]
     },
     "metadata": {},
     "output_type": "display_data"
    }
   ],
   "source": [
    "# These values are going to control the resolution of the maps\n",
    "nside_coverage = 32 # This is going to control the resolution of the \"low-resolution map\" that tells us which pixels are covered\n",
    "nside_sparse = 128 # This is going to control the resolution of the \"high-resolution\" map that contains the information that we care about\n",
    "n_pop = 200\n",
    "ra_rnd = 360.0*np.random.random(size=n_pop)\n",
    "dec_rnd = -90.0 + 180.0*np.random.random(size=n_pop)\n",
    "value_rnd = np.random.random(size=n_pop)\n",
    "hp_aux = np.zeros(hp.nside2npix(nside_sparse)) + hp.UNSEEN # Empty pixels for `HealSparse` are marked by `hp.UNSEEN`\n",
    "hp_aux[hp.ang2pix(nside_sparse, np.radians(90 - dec_rnd), np.radians(ra_rnd), nest=True)] = value_rnd\n",
    "hp.mollview(hp_aux)"
   ]
  },
  {
   "cell_type": "code",
   "execution_count": 3,
   "metadata": {
    "collapsed": false
   },
   "outputs": [],
   "source": [
    "# Now let's create the `HealSparseMap`\n",
    "hsp_map = hsp.HealSparseMap(nside_coverage=nside_coverage, healpix_map=hp_aux)"
   ]
  },
  {
   "cell_type": "code",
   "execution_count": 4,
   "metadata": {
    "collapsed": false
   },
   "outputs": [
    {
     "name": "stdout",
     "output_type": "stream",
     "text": [
      "Size of Original HEALPix map [KB]  1536.09375\n",
      "Size of HealSparse Map [KB]: 24.21875\n",
      "Memory footprint reduction factor: 63\n"
     ]
    }
   ],
   "source": [
    "# Now let's check the size savings\n",
    "print('Size of Original HEALPix map [KB] ', sys.getsizeof(hp_aux)/1024.)\n",
    "print('Size of HealSparse Map [KB]:' ,sys.getsizeof(hsp_map._sparse_map)/1024.)\n",
    "print('Memory footprint reduction factor:', int(1.0*sys.getsizeof(hp_aux)/sys.getsizeof(hsp_map._sparse_map)))\n",
    "# We reduce a factor of 62!! But this is mostly due because the map is very sparse"
   ]
  },
  {
   "cell_type": "markdown",
   "metadata": {},
   "source": [
    "**2) From scratch:**"
   ]
  },
  {
   "cell_type": "code",
   "execution_count": 5,
   "metadata": {
    "collapsed": false
   },
   "outputs": [
    {
     "name": "stdout",
     "output_type": "stream",
     "text": [
      "Are both maps (the one generated from scratch and the one generated from the HEALPix map) the same? True\n"
     ]
    }
   ],
   "source": [
    "# First create an empty map of the desired size and coverage\n",
    "hsp_map_2 = hsp.HealSparseMap.make_empty(nside_coverage, nside_sparse, dtype=np.float)\n",
    "# Get the pixel index corresponding to the position in the sky that we care about (we use the same convention as healpy!!)\n",
    "pixels = hp.ang2pix(nside_sparse, np.radians(90 - dec_rnd), np.radians(ra_rnd), nest=True)\n",
    "# Populate the map (using the same values and positions as in the previous case)\n",
    "hsp_map_2.update_values_pix(pixels, value_rnd)\n",
    "# Check that both maps are the same\n",
    "print('Are both maps (the one generated from scratch and the one generated from the HEALPix map) the same?', np.allclose(hsp_map._sparse_map,hsp_map_2._sparse_map))"
   ]
  },
  {
   "cell_type": "markdown",
   "metadata": {},
   "source": [
    "The values in the map are contained in their `_sparse_map` attributes"
   ]
  },
  {
   "cell_type": "markdown",
   "metadata": {},
   "source": [
    "The main advantage of `healsparse` is the ability to generate very high-resolution maps which would not be possible to create with `healpy` otherwise. For example:"
   ]
  },
  {
   "cell_type": "code",
   "execution_count": 6,
   "metadata": {
    "collapsed": false
   },
   "outputs": [
    {
     "name": "stdout",
     "output_type": "stream",
     "text": [
      "Size of HealSparse Map [KB]: 1608.09375  with resolution:  6.441537022157636  arcsec\n"
     ]
    }
   ],
   "source": [
    "nside_coverage = 1024\n",
    "nside_sparse = 32768 # A HEALPix map of this resolution would need ~96 GB of memory\n",
    "# Generate the empty map\n",
    "hsp_map_high_res = hsp.HealSparseMap.make_empty(nside_coverage, nside_sparse, dtype=np.float)\n",
    "# Fill it up at the same positions as before\n",
    "pixels = hp.ang2pix(nside_sparse, np.radians(90 - dec_rnd), np.radians(ra_rnd), nest=True)\n",
    "hsp_map_high_res.update_values_pix(pixels, value_rnd)\n",
    "print('Size of HealSparse Map [KB]:' ,sys.getsizeof(hsp_map_high_res._sparse_map)/1024., ' with resolution: ', 60*hp.nside2resol(nside_sparse, arcmin=True), ' arcsec')"
   ]
  },
  {
   "cell_type": "markdown",
   "metadata": {},
   "source": [
    "### Input/Output\n",
    "\n",
    "`HealSparse` can read and write both `HealSparse` maps and `HEALPix/healpy` maps"
   ]
  },
  {
   "cell_type": "code",
   "execution_count": 7,
   "metadata": {
    "collapsed": false
   },
   "outputs": [],
   "source": [
    "nside_coverage = 32 \n",
    "nside_sparse = 128\n",
    "# Write both the HEALPix and HealSparse maps\n",
    "hp.write_map('test_hp_map.fits', hp_aux, overwrite=True)\n",
    "hsp_map.write('test_hsp_map.fits', clobber=True)\n",
    "# Read both the HEALPix and HealSparse maps using HealSparse\n",
    "hsp_map_3 = hsp.HealSparseMap.read('test_hp_map.fits', nside_coverage=nside_coverage)\n",
    "hsp_map_4 = hsp.HealSparseMap.read('test_hsp_map.fits')"
   ]
  },
  {
   "cell_type": "markdown",
   "metadata": {},
   "source": [
    "### Coverage mask and map"
   ]
  },
  {
   "cell_type": "markdown",
   "metadata": {},
   "source": [
    "A useful property of `HealSparse` objects are their **\"coverage masks\"**. These masks are boolean maps that show the low-resolution pixels that contain non-empty high-resolution pixels with value `1`, and the empty pixels with value `0`. In order to access these masks we have to use the property/method `coverage_mask` from a `HealSparse` object. Let's see an example:"
   ]
  },
  {
   "cell_type": "code",
   "execution_count": 8,
   "metadata": {
    "collapsed": false
   },
   "outputs": [
    {
     "data": {
      "image/png": "[encoded data removed]",
      "text/plain": [
       "<matplotlib.figure.Figure at 0x1217869e8>"
      ]
     },
     "metadata": {},
     "output_type": "display_data"
    }
   ],
   "source": [
    "hsp_mask = hsp_map.coverage_mask\n",
    "hp.mollview(hsp_mask, title='Coverage Mask')"
   ]
  },
  {
   "cell_type": "markdown",
   "metadata": {},
   "source": [
    "Another useful property of `HealSparse` objects are their **\"coverage maps\"**. These maps show what fraction of a pixel in the low-resolution map has been observed in the high-resolution map. E.g., if a low-resolution pixel contains high-resolution pixels that have been all observed, the value of the coverage map in that pixel will be 1.0. In order to access these maps, one just has to invoke the method `HealSparse.coverage_map`"
   ]
  },
  {
   "cell_type": "code",
   "execution_count": 9,
   "metadata": {
    "collapsed": false
   },
   "outputs": [
    {
     "data": {
      "image/png": "[encoded data removed]",
      "text/plain": [
       "<matplotlib.figure.Figure at 0x115f34a90>"
      ]
     },
     "metadata": {},
     "output_type": "display_data"
    }
   ],
   "source": [
    "hsp_cov_map = hsp_map.coverage_map\n",
    "hp.mollview(hsp_cov_map, title='Coverage Map')"
   ]
  },
  {
   "cell_type": "markdown",
   "metadata": {},
   "source": [
    "### Pixel utilities\n",
    "\n",
    "`HealSparse` also has utilities to get the value of a pixel in a given position of the sky, or update a map in a given position. Let's see how this is done:"
   ]
  },
  {
   "cell_type": "code",
   "execution_count": 10,
   "metadata": {
    "collapsed": false
   },
   "outputs": [
    {
     "name": "stdout",
     "output_type": "stream",
     "text": [
      "Are all the pixel values the same using both methods? True\n"
     ]
    }
   ],
   "source": [
    "# Points to probe\n",
    "test_ra = 360*np.random.random(size=10)\n",
    "test_dec = -90 + 180*np.random.random(size=10)\n",
    "# Values to recover\n",
    "test_values = hsp_map.get_values_pos(test_ra, test_dec, lonlat=True)\n",
    "# There's also the possiblity of getting them from the theta/phi coordinates:\n",
    "test_values_2 = hsp_map.get_values_pos(np.radians(90 - test_dec), np.radians(test_ra), lonlat=False)\n",
    "print('Are all the pixel values the same using both methods?', np.allclose(test_values, test_values_2))"
   ]
  },
  {
   "cell_type": "markdown",
   "metadata": {},
   "source": [
    "An alternative method to get the value in a given pixel is to get the `HEALPix` pixel number that corresponds to a given position (RA, Dec) with the same resolution that our sparse map, and query these:"
   ]
  },
  {
   "cell_type": "code",
   "execution_count": 11,
   "metadata": {
    "collapsed": false
   },
   "outputs": [
    {
     "name": "stdout",
     "output_type": "stream",
     "text": [
      "Are all the pixel values the same using both methods? True\n"
     ]
    }
   ],
   "source": [
    "test_px_num = hp.ang2pix(hsp_map._nside_sparse, np.radians(90 - test_dec), np.radians(test_ra), nest=True)\n",
    "test_values_2 = hsp_map.get_values_pix(test_px_num)\n",
    "print('Are all the pixel values the same using both methods?', np.allclose(test_values, test_values_2))"
   ]
  },
  {
   "cell_type": "markdown",
   "metadata": {},
   "source": [
    "Now, if you want to change the value of a `HealSparseMap` the preferred option is to use the `update` method given the pixel number"
   ]
  },
  {
   "cell_type": "code",
   "execution_count": 12,
   "metadata": {
    "collapsed": true
   },
   "outputs": [],
   "source": [
    "test_values = np.random.random(size=10)\n",
    "# Now let's update the map in the positions that we were previously probing.\n",
    "hsp_map.update_values_pix(test_px_num, test_values)"
   ]
  },
  {
   "cell_type": "markdown",
   "metadata": {},
   "source": [
    "### Using `np.recarray`"
   ]
  },
  {
   "cell_type": "markdown",
   "metadata": {},
   "source": [
    "A very powerful feature of `HealSparse` is the ability to deal with `np.recarray`. This allows us to carry several maps on the same \"grid\" and using the same coverage mask/map. Let's see an example of how to create such maps."
   ]
  },
  {
   "cell_type": "code",
   "execution_count": 13,
   "metadata": {
    "collapsed": false
   },
   "outputs": [],
   "source": [
    "# We are going to create 3 maps: one with galaxy overdensity, another with number of stars (integer), and one with sky-brightness\n",
    "dtype = [('gal_delta','f8'),('star_num','i4'),('sky_brightness','f4')]\n",
    "npop = 10000 # We are going to populate 10000 pixels\n",
    "ra_rnd = 360*np.random.random(size=npop)\n",
    "dec_rnd = -90 + 180.0*np.random.random(size=npop)\n",
    "nside_sparse = 512 # This is the resolution for our sparse map\n",
    "nside_coverage = 32 # This is the resolution of our coverage map\n",
    "# We are going to fill up the pixels corresponding to the positions above \n",
    "px_rnd = hp.ang2pix(nside_sparse, np.radians(90 - dec_rnd), np.radians(ra_rnd), nest=True)\n",
    "# Create an empty array\n",
    "test_arr = np.zeros(npop, dtype=dtype)\n",
    "# Fill up the arrays with random values\n",
    "test_arr['gal_delta'] = -1 + 10*np.random.random(npop)\n",
    "test_arr['star_num'] = np.random.randint(low=0, high=10, size=npop)\n",
    "test_arr['sky_brightness'] = 3000 + 10000*np.random.random(size=npop)\n",
    "hsp_recarray = hsp.HealSparseMap.make_empty(nside_coverage, nside_sparse, dtype=dtype, primary='gal_delta') # A primary key should be chosen! This marks our \"primary\" map\n",
    "hsp_recarray.update_values_pix(px_rnd, test_arr)"
   ]
  },
  {
   "cell_type": "markdown",
   "metadata": {},
   "source": [
    "`hsp_recarray` now contains information about 3 maps in its `_sparseMap` and the primary key is `gal_delta` (the galaxy overdensity map)"
   ]
  },
  {
   "cell_type": "code",
   "execution_count": 14,
   "metadata": {
    "collapsed": false
   },
   "outputs": [
    {
     "name": "stdout",
     "output_type": "stream",
     "text": [
      "{'gal_delta': (dtype('float64'), 0), 'sky_brightness': (dtype('float32'), 12), 'star_num': (dtype('int32'), 8)}\n"
     ]
    }
   ],
   "source": [
    "print(hsp_recarray._sparse_map.dtype.fields)"
   ]
  },
  {
   "cell_type": "markdown",
   "metadata": {},
   "source": [
    "### Changing the resolution of a `HealSparseMap`"
   ]
  },
  {
   "cell_type": "markdown",
   "metadata": {},
   "source": [
    "We can decrease the resolution of a given `HealSparseMap` using the `degrade` method. This method allows us to keep the same coverage index map and change the size of the sparse map(s). This method is pretty flexible and, it gives the user the possibility of choosing several methods to change the resolution of the original maps, including, mean, median, standard deviation, maximum or minimum. So, the value of the new (larger) pixel will correspond to the chosen operation performed on the smaller (sub-)pixels. "
   ]
  },
  {
   "cell_type": "code",
   "execution_count": 15,
   "metadata": {
    "collapsed": false
   },
   "outputs": [
    {
     "name": "stdout",
     "output_type": "stream",
     "text": [
      "What is my new nside_sparse? 64\n"
     ]
    },
    {
     "name": "stderr",
     "output_type": "stream",
     "text": [
      "/Users/javiers/gitrepos/downloads/healsparse/healsparse/utils.py:20: RuntimeWarning: Mean of empty slice\n",
      "  return np.nanmean(x, axis=2).flatten()\n"
     ]
    }
   ],
   "source": [
    "# The method works for `HealSparseMap` containing both `recarray`s and `ndarray`s\n",
    "low_res_hsp = hsp_recarray.degrade(64) # It changes the resolution of all maps\n",
    "print('What is my new nside_sparse?', low_res_hsp._nside_sparse)\n",
    "# Warnings arise due to operations in the overflow bin but they can be safely ignored"
   ]
  },
  {
   "cell_type": "code",
   "execution_count": 16,
   "metadata": {
    "collapsed": false
   },
   "outputs": [
    {
     "name": "stdout",
     "output_type": "stream",
     "text": [
      "What is my new nside_sparse? 64\n"
     ]
    },
    {
     "name": "stderr",
     "output_type": "stream",
     "text": [
      "/Users/javiers/gitrepos/downloads/healsparse/healsparse/utils.py:26: RuntimeWarning: All-NaN slice encountered\n",
      "  return np.nanmax(x, axis=2).flatten()\n"
     ]
    }
   ],
   "source": [
    "low_res_hsp = hsp_recarray.degrade(64, reduction='max') # We can also check the maximum, for example\n",
    "print('What is my new nside_sparse?', low_res_hsp._nside_sparse)"
   ]
  },
  {
   "cell_type": "markdown",
   "metadata": {},
   "source": [
    "### Getting a HEALPix map from a HealSparse map"
   ]
  },
  {
   "cell_type": "markdown",
   "metadata": {},
   "source": [
    "Another useful utility of `HealSparse` is the ability to build a `HEALPix` map from a given `HealSparse` map. This utility also allows the user to change the resolution of the map before converting to `HEALPix` (this can prevent running into memory problems). In the case of using `recarray` maps, the user can choose which map they want to convert. The datatypes are preserved, except in the case of dealing with integers, in that case, the maps are converted to floating point."
   ]
  },
  {
   "cell_type": "code",
   "execution_count": 17,
   "metadata": {
    "collapsed": false
   },
   "outputs": [
    {
     "name": "stderr",
     "output_type": "stream",
     "text": [
      "/Users/javiers/gitrepos/downloads/healsparse/healsparse/utils.py:20: RuntimeWarning: Mean of empty slice\n",
      "  return np.nanmean(x, axis=2).flatten()\n"
     ]
    },
    {
     "data": {
      "image/png": "[encoded data removed]",
      "text/plain": [
       "<matplotlib.figure.Figure at 0x1218eb978>"
      ]
     },
     "metadata": {},
     "output_type": "display_data"
    }
   ],
   "source": [
    "rec_hp = hsp_recarray.generate_healpix_map(nside=128, key='sky_brightness')\n",
    "hp.mollview(rec_hp)"
   ]
  },
  {
   "cell_type": "markdown",
   "metadata": {},
   "source": [
    "You are now ready to use `healsparse`! Please let us know of any [issues](https://github.com/LSSTDESC/healsparse/issues)."
   ]
  },
  {
   "cell_type": "code",
   "execution_count": null,
   "metadata": {
    "collapsed": true
   },
   "outputs": [],
   "source": []
  }
 ],
 "metadata": {
  "kernelspec": {
   "display_name": "Python 3",
   "language": "python",
   "name": "python3"
  },
  "language_info": {
   "codemirror_mode": {
    "name": "ipython",
    "version": 3
   },
   "file_extension": ".py",
   "mimetype": "text/x-python",
   "name": "python",
   "nbconvert_exporter": "python",
   "pygments_lexer": "ipython3",
   "version": "3.5.2"
  }
 },
 "nbformat": 4,
 "nbformat_minor": 0
}
